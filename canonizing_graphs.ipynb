{
 "cells": [
  {
   "cell_type": "code",
   "execution_count": 1,
   "metadata": {},
   "outputs": [],
   "source": [
    "import networkx as nx\n",
    "import matplotlib.pyplot as plt\n",
    "from trees import Tree, kNT, TPT\n",
    "import numpy as np"
   ]
  },
  {
   "cell_type": "code",
   "execution_count": 2,
   "metadata": {},
   "outputs": [],
   "source": [
    "def get_canonical_label(tree, node, subtree_dict, current_label_dict):\n",
    "    '''Get the canonical label for the subtree rooted at the given node.'''\n",
    "    tree.sort_tree(node)\n",
    "    children = tree.chi(node)\n",
    "    if not children:\n",
    "        subtree_form = (tree.node_labels[node]['name'],)\n",
    "    else:\n",
    "        subtree_form = (tree.node_labels[node]['name'], tuple(get_canonical_label(tree, child, subtree_dict, current_label_dict) for child in children))\n",
    "\n",
    "    if subtree_form not in subtree_dict:\n",
    "        subtree_dict[subtree_form] = current_label_dict['current_label']\n",
    "        current_label_dict['current_label'] += 1\n",
    "\n",
    "    return subtree_dict[subtree_form]\n",
    "\n",
    "def canonize_tree(tree, subtree_dict, current_label_dict):\n",
    "    '''Canonize the tree and return the canonical form of the root node and the dictionary of subtrees.'''\n",
    "    canonical_form = get_canonical_label(tree, tree.root, subtree_dict, current_label_dict)\n",
    "    return canonical_form, subtree_dict"
   ]
  },
  {
   "cell_type": "code",
   "execution_count": 24,
   "metadata": {},
   "outputs": [],
   "source": []
  },
  {
   "cell_type": "code",
   "execution_count": 3,
   "metadata": {},
   "outputs": [],
   "source": [
    "def read_g6_file(file_path):\n",
    "    # Read the graph from a g6 format file\n",
    "    graphs = list(nx.read_graph6(file_path))\n",
    "    \n",
    "    # Convert node labels to strings\n",
    "    for i in range(len(graphs)):\n",
    "        graphs[i] = nx.relabel_nodes(graphs[i], str)\n",
    "    \n",
    "    return graphs"
   ]
  },
  {
   "cell_type": "code",
   "execution_count": 4,
   "metadata": {},
   "outputs": [],
   "source": [
    "def check_distinctness(file_path):\n",
    "    Gs = read_g6_file(file_path)\n",
    "    k = 1\n",
    "    shared_subtree_dict = {}\n",
    "    current_label_dict = {'current_label': 0}\n",
    "\n",
    "    knt_forest = []\n",
    "    tpt_forest = []\n",
    "    for G in Gs:\n",
    "        knt_canons = []\n",
    "        tpt_canons = []\n",
    "        for node in G.nodes:\n",
    "            knt_instance = kNT(G=G, root=node, k=k)\n",
    "            for knt_node in knt_instance.unfolding_tree.nodes():\n",
    "                # Treat all nodes as having the same label '0'\n",
    "                knt_instance.node_labels[knt_node] = {'name': '0'}\n",
    "            tpt_instance = TPT(G=G, root=node)\n",
    "            for tpt_node in tpt_instance.tpt_tree.nodes():\n",
    "                tpt_instance.node_labels[node] = {'name': '0'}\n",
    "\n",
    "            knt_canon, shared_subtree_dict = canonize_tree(knt_instance, shared_subtree_dict, current_label_dict)\n",
    "            tpt_canon, shared_subtree_dict = canonize_tree(tpt_instance, shared_subtree_dict, current_label_dict)\n",
    "\n",
    "            knt_canons.append(knt_canon)\n",
    "            tpt_canons.append(tpt_canon)\n",
    "        \n",
    "        knt_forest.append(knt_canons)\n",
    "        tpt_forest.append(tpt_canons)\n",
    "\n",
    "    # Convert the forests to numpy arrays if needed\n",
    "    knt_forest = np.array(knt_forest, dtype=object)\n",
    "    tpt_forest = np.array(tpt_forest, dtype=object)\n",
    "\n",
    "    # print(knt_forest)\n",
    "    # print(tpt_forest)\n",
    "\n",
    "    # Function to compare two lists of strings\n",
    "    def compare_lists(list1, list2):\n",
    "        return all(x == y for x, y in zip(list1, list2)) and len(list1) == len(list2)\n",
    "\n",
    "    # Function to check all combinations in a forest\n",
    "    def check_forest(forest):\n",
    "        n = len(forest)\n",
    "        for i in range(n):\n",
    "            for j in range(i + 1, n):\n",
    "                if compare_lists(forest[i], forest[j]):\n",
    "                    return True, i, j\n",
    "        return False, None, None\n",
    "\n",
    "    # Check knt_forest\n",
    "    knt_has_duplicates, knt_i, knt_j = check_forest(knt_forest)\n",
    "\n",
    "    # Check tpt_forest\n",
    "    tpt_has_duplicates, tpt_i, tpt_j = check_forest(tpt_forest)\n",
    "\n",
    "    # Print results\n",
    "    if knt_has_duplicates:\n",
    "        print(f\"knt_forest has duplicates: knt_forest[{knt_i}] is equal to knt_forest[{knt_j}]\")\n",
    "    else:\n",
    "        print(\"knt_forest: All elements are distinct\")\n",
    "\n",
    "    if tpt_has_duplicates:\n",
    "        print(f\"tpt_forest has duplicates: tpt_forest[{tpt_i}] is equal to tpt_forest[{tpt_j}]\")\n",
    "    else:\n",
    "        print(\"tpt_forest: All elements are distinct\")"
   ]
  },
  {
   "cell_type": "markdown",
   "metadata": {},
   "source": [
    "## Test on strongly regular graphs"
   ]
  },
  {
   "cell_type": "code",
   "execution_count": 7,
   "metadata": {},
   "outputs": [
    {
     "ename": "KeyboardInterrupt",
     "evalue": "",
     "output_type": "error",
     "traceback": [
      "\u001b[0;31m---------------------------------------------------------------------------\u001b[0m",
      "\u001b[0;31mKeyboardInterrupt\u001b[0m                         Traceback (most recent call last)",
      "Cell \u001b[0;32mIn[7], line 1\u001b[0m\n\u001b[0;32m----> 1\u001b[0m \u001b[43mcheck_distinctness\u001b[49m\u001b[43m(\u001b[49m\u001b[38;5;124;43m'\u001b[39;49m\u001b[38;5;124;43mstrongly_regular_graphs/sr251256.g6\u001b[39;49m\u001b[38;5;124;43m'\u001b[39;49m\u001b[43m)\u001b[49m\n",
      "Cell \u001b[0;32mIn[4], line 17\u001b[0m, in \u001b[0;36mcheck_distinctness\u001b[0;34m(file_path)\u001b[0m\n\u001b[1;32m     14\u001b[0m \u001b[38;5;28;01mfor\u001b[39;00m knt_node \u001b[38;5;129;01min\u001b[39;00m knt_instance\u001b[38;5;241m.\u001b[39munfolding_tree\u001b[38;5;241m.\u001b[39mnodes():\n\u001b[1;32m     15\u001b[0m     \u001b[38;5;66;03m# Treat all nodes as having the same label '0'\u001b[39;00m\n\u001b[1;32m     16\u001b[0m     knt_instance\u001b[38;5;241m.\u001b[39mnode_labels[knt_node] \u001b[38;5;241m=\u001b[39m {\u001b[38;5;124m'\u001b[39m\u001b[38;5;124mname\u001b[39m\u001b[38;5;124m'\u001b[39m: \u001b[38;5;124m'\u001b[39m\u001b[38;5;124m0\u001b[39m\u001b[38;5;124m'\u001b[39m}\n\u001b[0;32m---> 17\u001b[0m tpt_instance \u001b[38;5;241m=\u001b[39m \u001b[43mTPT\u001b[49m\u001b[43m(\u001b[49m\u001b[43mG\u001b[49m\u001b[38;5;241;43m=\u001b[39;49m\u001b[43mG\u001b[49m\u001b[43m,\u001b[49m\u001b[43m \u001b[49m\u001b[43mroot\u001b[49m\u001b[38;5;241;43m=\u001b[39;49m\u001b[43mnode\u001b[49m\u001b[43m)\u001b[49m\n\u001b[1;32m     18\u001b[0m \u001b[38;5;28;01mfor\u001b[39;00m tpt_node \u001b[38;5;129;01min\u001b[39;00m tpt_instance\u001b[38;5;241m.\u001b[39mtpt_tree\u001b[38;5;241m.\u001b[39mnodes():\n\u001b[1;32m     19\u001b[0m     tpt_instance\u001b[38;5;241m.\u001b[39mnode_labels[node] \u001b[38;5;241m=\u001b[39m {\u001b[38;5;124m'\u001b[39m\u001b[38;5;124mname\u001b[39m\u001b[38;5;124m'\u001b[39m: \u001b[38;5;124m'\u001b[39m\u001b[38;5;124m0\u001b[39m\u001b[38;5;124m'\u001b[39m}\n",
      "File \u001b[0;32m~/Desktop/data-analysis-project/trees.py:138\u001b[0m, in \u001b[0;36mTPT.__init__\u001b[0;34m(self, G, root, max_depth, iteration_limit)\u001b[0m\n\u001b[1;32m    135\u001b[0m \u001b[38;5;28mself\u001b[39m\u001b[38;5;241m.\u001b[39mtpt_tree \u001b[38;5;241m=\u001b[39m nx\u001b[38;5;241m.\u001b[39mDiGraph()\n\u001b[1;32m    137\u001b[0m \u001b[38;5;28mself\u001b[39m\u001b[38;5;241m.\u001b[39miteration_limit \u001b[38;5;241m=\u001b[39m iteration_limit\n\u001b[0;32m--> 138\u001b[0m \u001b[38;5;28;43mself\u001b[39;49m\u001b[38;5;241;43m.\u001b[39;49m\u001b[43mbuild_tree\u001b[49m\u001b[43m(\u001b[49m\u001b[38;5;28;43mself\u001b[39;49m\u001b[38;5;241;43m.\u001b[39;49m\u001b[43mroot\u001b[49m\u001b[43m)\u001b[49m\n",
      "File \u001b[0;32m~/Desktop/data-analysis-project/trees.py:163\u001b[0m, in \u001b[0;36mTPT.build_tree\u001b[0;34m(self, start_node)\u001b[0m\n\u001b[1;32m    161\u001b[0m \u001b[38;5;66;03m# Continue as long as there is a queue\u001b[39;00m\n\u001b[1;32m    162\u001b[0m \u001b[38;5;28;01mwhile\u001b[39;00m queue:\n\u001b[0;32m--> 163\u001b[0m     current_node, path \u001b[38;5;241m=\u001b[39m \u001b[43mqueue\u001b[49m\u001b[38;5;241;43m.\u001b[39;49m\u001b[43mpop\u001b[49m\u001b[43m(\u001b[49m\u001b[38;5;241;43m0\u001b[39;49m\u001b[43m)\u001b[49m\n\u001b[1;32m    164\u001b[0m     depth \u001b[38;5;241m=\u001b[39m \u001b[38;5;28mlen\u001b[39m(path) \u001b[38;5;241m-\u001b[39m \u001b[38;5;241m1\u001b[39m\n\u001b[1;32m    166\u001b[0m     node_id \u001b[38;5;241m=\u001b[39m \u001b[38;5;124m\"\u001b[39m\u001b[38;5;124m-\u001b[39m\u001b[38;5;124m\"\u001b[39m\u001b[38;5;241m.\u001b[39mjoin(path)\n",
      "\u001b[0;31mKeyboardInterrupt\u001b[0m: "
     ]
    }
   ],
   "source": [
    "check_distinctness('strongly_regular_graphs/sr251256.g6')"
   ]
  },
  {
   "cell_type": "markdown",
   "metadata": {},
   "source": [
    "## Test on simple graphs"
   ]
  },
  {
   "cell_type": "code",
   "execution_count": 44,
   "metadata": {},
   "outputs": [
    {
     "name": "stdout",
     "output_type": "stream",
     "text": [
      "knt_forest: All elements are distinct\n",
      "tpt_forest: All elements are distinct\n",
      "knt_forest: All elements are distinct\n",
      "tpt_forest: All elements are distinct\n",
      "knt_forest: All elements are distinct\n",
      "tpt_forest: All elements are distinct\n",
      "knt_forest: All elements are distinct\n",
      "tpt_forest: All elements are distinct\n",
      "knt_forest: All elements are distinct\n",
      "tpt_forest: All elements are distinct\n",
      "knt_forest: All elements are distinct\n",
      "tpt_forest: All elements are distinct\n"
     ]
    }
   ],
   "source": [
    "check_distinctness('simple_graphs/graph2.g6')\n",
    "check_distinctness('simple_graphs/graph3.g6')\n",
    "check_distinctness('simple_graphs/graph4.g6')\n",
    "check_distinctness('simple_graphs/graph5.g6')\n",
    "check_distinctness('simple_graphs/graph6.g6')\n",
    "check_distinctness('simple_graphs/graph7.g6')\n",
    "# check_distinctness('simple_graphs/graph8.g6')\n",
    "# check_distinctness('simple_graphs/graph9.g6')"
   ]
  },
  {
   "cell_type": "markdown",
   "metadata": {},
   "source": [
    "## Test on simple connected graphs"
   ]
  },
  {
   "cell_type": "code",
   "execution_count": 45,
   "metadata": {},
   "outputs": [
    {
     "name": "stdout",
     "output_type": "stream",
     "text": [
      "knt_forest: All elements are distinct\n",
      "tpt_forest: All elements are distinct\n",
      "knt_forest: All elements are distinct\n",
      "tpt_forest: All elements are distinct\n",
      "knt_forest: All elements are distinct\n",
      "tpt_forest: All elements are distinct\n",
      "knt_forest: All elements are distinct\n",
      "tpt_forest: All elements are distinct\n",
      "knt_forest: All elements are distinct\n",
      "tpt_forest: All elements are distinct\n"
     ]
    }
   ],
   "source": [
    "# check_distinctness('simple_graphs/graph2.g6')\n",
    "check_distinctness('simple_graphs/graph3c.g6')\n",
    "check_distinctness('simple_graphs/graph4c.g6')\n",
    "check_distinctness('simple_graphs/graph5c.g6')\n",
    "check_distinctness('simple_graphs/graph6c.g6')\n",
    "check_distinctness('simple_graphs/graph7c.g6')\n",
    "# check_distinctness('simple_graphs/graph8.g6')\n",
    "# check_distinctness('simple_graphs/graph9.g6')"
   ]
  },
  {
   "cell_type": "markdown",
   "metadata": {},
   "source": [
    "## Test on Eulerian graphs"
   ]
  },
  {
   "cell_type": "code",
   "execution_count": 52,
   "metadata": {},
   "outputs": [
    {
     "name": "stdout",
     "output_type": "stream",
     "text": [
      "knt_forest: All elements are distinct\n",
      "tpt_forest: All elements are distinct\n",
      "knt_forest: All elements are distinct\n",
      "tpt_forest: All elements are distinct\n",
      "knt_forest: All elements are distinct\n",
      "tpt_forest: All elements are distinct\n",
      "knt_forest: All elements are distinct\n",
      "tpt_forest: All elements are distinct\n",
      "knt_forest: All elements are distinct\n",
      "tpt_forest: All elements are distinct\n",
      "knt_forest: All elements are distinct\n",
      "tpt_forest: All elements are distinct\n"
     ]
    }
   ],
   "source": [
    "check_distinctness('eulerian_graphs/eul3.g6')\n",
    "check_distinctness('eulerian_graphs/eul4.g6')\n",
    "check_distinctness('eulerian_graphs/eul5.g6')\n",
    "check_distinctness('eulerian_graphs/eul6.g6')\n",
    "check_distinctness('eulerian_graphs/eul7.g6')\n",
    "check_distinctness('eulerian_graphs/eul8.g6')\n",
    "# check_distinctness('eulerian_graphs/eul9.g6')"
   ]
  },
  {
   "cell_type": "markdown",
   "metadata": {},
   "source": [
    "## Test on connected Eulerian graphs"
   ]
  },
  {
   "cell_type": "code",
   "execution_count": 53,
   "metadata": {},
   "outputs": [
    {
     "name": "stdout",
     "output_type": "stream",
     "text": [
      "knt_forest: All elements are distinct\n",
      "tpt_forest: All elements are distinct\n",
      "knt_forest: All elements are distinct\n",
      "tpt_forest: All elements are distinct\n",
      "knt_forest: All elements are distinct\n",
      "tpt_forest: All elements are distinct\n",
      "knt_forest: All elements are distinct\n",
      "tpt_forest: All elements are distinct\n"
     ]
    }
   ],
   "source": [
    "# check_distinctness('eulerian_graphs/eul3c.g6')\n",
    "# check_distinctness('eulerian_graphs/eul4c.g6')\n",
    "check_distinctness('eulerian_graphs/eul5c.g6')\n",
    "check_distinctness('eulerian_graphs/eul6c.g6')\n",
    "check_distinctness('eulerian_graphs/eul7c.g6')\n",
    "check_distinctness('eulerian_graphs/eul8c.g6')\n",
    "# check_distinctness('eulerian_graphs/eul9c.g6')"
   ]
  },
  {
   "cell_type": "markdown",
   "metadata": {},
   "source": [
    "## Test on perfect graphs"
   ]
  },
  {
   "cell_type": "code",
   "execution_count": 56,
   "metadata": {},
   "outputs": [
    {
     "name": "stdout",
     "output_type": "stream",
     "text": [
      "knt_forest: All elements are distinct\n",
      "tpt_forest: All elements are distinct\n",
      "knt_forest: All elements are distinct\n",
      "tpt_forest: All elements are distinct\n",
      "knt_forest: All elements are distinct\n",
      "tpt_forest: All elements are distinct\n"
     ]
    }
   ],
   "source": [
    "check_distinctness('perfect_graphs/perfect5.g6')\n",
    "check_distinctness('perfect_graphs/perfect6.g6')\n",
    "check_distinctness('perfect_graphs/perfect7.g6')\n",
    "# check_distinctness('perfect_graphs/perfect8.g6')\n",
    "# check_distinctness('perfect_graphs/perfect9.g6')"
   ]
  },
  {
   "cell_type": "markdown",
   "metadata": {},
   "source": [
    "## Test on Hypohamiltonian graphs"
   ]
  },
  {
   "cell_type": "code",
   "execution_count": 57,
   "metadata": {},
   "outputs": [
    {
     "name": "stdout",
     "output_type": "stream",
     "text": [
      "knt_forest: All elements are distinct\n",
      "tpt_forest: All elements are distinct\n"
     ]
    }
   ],
   "source": [
    "check_distinctness('hypo_hamiltonian_graphs/hypo16.g6')"
   ]
  },
  {
   "cell_type": "markdown",
   "metadata": {},
   "source": [
    "## Test on Planar graphs"
   ]
  },
  {
   "cell_type": "code",
   "execution_count": 59,
   "metadata": {},
   "outputs": [
    {
     "name": "stdout",
     "output_type": "stream",
     "text": [
      "knt_forest: All elements are distinct\n",
      "tpt_forest: All elements are distinct\n",
      "knt_forest: All elements are distinct\n",
      "tpt_forest: All elements are distinct\n",
      "knt_forest: All elements are distinct\n",
      "tpt_forest: All elements are distinct\n",
      "knt_forest: All elements are distinct\n",
      "tpt_forest: All elements are distinct\n",
      "knt_forest: All elements are distinct\n",
      "tpt_forest: All elements are distinct\n",
      "knt_forest: All elements are distinct\n",
      "tpt_forest: All elements are distinct\n"
     ]
    }
   ],
   "source": [
    "check_distinctness('planar_graphs/planar_conn.3.g6')\n",
    "check_distinctness('planar_graphs/planar_conn.4.g6')\n",
    "check_distinctness('planar_graphs/planar_conn.5.g6')\n",
    "check_distinctness('planar_graphs/planar_conn.6.g6')\n",
    "check_distinctness('planar_graphs/planar_conn.7.g6')\n",
    "check_distinctness('planar_graphs/planar_conn.8.g6')"
   ]
  },
  {
   "cell_type": "markdown",
   "metadata": {},
   "source": [
    "## Test on self-complementary graphs"
   ]
  },
  {
   "cell_type": "code",
   "execution_count": 5,
   "metadata": {},
   "outputs": [
    {
     "name": "stdout",
     "output_type": "stream",
     "text": [
      "knt_forest: All elements are distinct\n",
      "tpt_forest: All elements are distinct\n",
      "knt_forest: All elements are distinct\n",
      "tpt_forest: All elements are distinct\n",
      "knt_forest: All elements are distinct\n",
      "tpt_forest: All elements are distinct\n"
     ]
    }
   ],
   "source": [
    "check_distinctness('self_comp_graphs/selfcomp5.g6')\n",
    "check_distinctness('self_comp_graphs/selfcomp8.g6')\n",
    "check_distinctness('self_comp_graphs/selfcomp9.g6')\n",
    "# check_distinctness('self_comp_graphs/selfcomp12.g6')\n",
    "# check_distinctness('self_comp_graphs/selfcomp13.g6')"
   ]
  },
  {
   "cell_type": "markdown",
   "metadata": {},
   "source": [
    "## Test on highly irregular graphs"
   ]
  },
  {
   "cell_type": "code",
   "execution_count": 6,
   "metadata": {},
   "outputs": [
    {
     "name": "stdout",
     "output_type": "stream",
     "text": [
      "knt_forest: All elements are distinct\n",
      "tpt_forest: All elements are distinct\n",
      "knt_forest: All elements are distinct\n",
      "tpt_forest: All elements are distinct\n",
      "knt_forest: All elements are distinct\n",
      "tpt_forest: All elements are distinct\n",
      "knt_forest: All elements are distinct\n",
      "tpt_forest: All elements are distinct\n",
      "knt_forest: All elements are distinct\n",
      "tpt_forest: All elements are distinct\n",
      "knt_forest: All elements are distinct\n",
      "tpt_forest: All elements are distinct\n"
     ]
    }
   ],
   "source": [
    "check_distinctness('highly_irregular_graphs/highlyirregular8.g6')\n",
    "check_distinctness('highly_irregular_graphs/highlyirregular9.g6')\n",
    "check_distinctness('highly_irregular_graphs/highlyirregular10.g6')\n",
    "check_distinctness('highly_irregular_graphs/highlyirregular11.g6')\n",
    "check_distinctness('highly_irregular_graphs/highlyirregular12.g6')\n",
    "check_distinctness('highly_irregular_graphs/highlyirregular13.g6')\n",
    "# check_distinctness('highly_irregular_graphs/highlyirregular14.g6')"
   ]
  },
  {
   "cell_type": "code",
   "execution_count": null,
   "metadata": {},
   "outputs": [],
   "source": []
  },
  {
   "cell_type": "code",
   "execution_count": 6,
   "metadata": {},
   "outputs": [],
   "source": []
  }
 ],
 "metadata": {
  "kernelspec": {
   "display_name": "base",
   "language": "python",
   "name": "python3"
  },
  "language_info": {
   "codemirror_mode": {
    "name": "ipython",
    "version": 3
   },
   "file_extension": ".py",
   "mimetype": "text/x-python",
   "name": "python",
   "nbconvert_exporter": "python",
   "pygments_lexer": "ipython3",
   "version": "3.9.12"
  }
 },
 "nbformat": 4,
 "nbformat_minor": 2
}
